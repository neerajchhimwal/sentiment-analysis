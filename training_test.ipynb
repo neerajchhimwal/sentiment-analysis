{
 "cells": [
  {
   "cell_type": "code",
   "execution_count": 1,
   "id": "8e93388e",
   "metadata": {},
   "outputs": [],
   "source": [
    "import random\n",
    "import numpy as np\n",
    "import torch\n",
    "\n",
    "seed_val = 17\n",
    "random.seed(seed_val)\n",
    "np.random.seed(seed_val)\n",
    "torch.manual_seed(seed_val)\n",
    "torch.cuda.manual_seed_all(seed_val)"
   ]
  },
  {
   "cell_type": "code",
   "execution_count": 2,
   "id": "e2395c2a",
   "metadata": {},
   "outputs": [],
   "source": [
    "from utils import process_csv\n",
    "import training_params\n",
    "from dataset import SentimentDataset\n",
    "from torch.utils.data import DataLoader\n",
    "from transformers import BertModel, AdamW, get_linear_schedule_with_warmup\n",
    "from transformers import BertForSequenceClassification\n",
    "import numpy as np\n",
    "from sklearn.metrics import f1_score, accuracy_score, classification_report\n",
    "import random\n",
    "\n",
    "train_texts, train_targets = process_csv(training_params.TRAIN_DATA)\n",
    "valid_texts, valid_targets = process_csv(training_params.VALID_DATA)\n",
    "\n",
    "# subset\n",
    "\n",
    "indices_train = random.sample(range(len(train_texts)), 1000)\n",
    "indices_valid = random.sample(range(len(valid_texts)), 500)\n",
    "\n",
    "train_texts = [t for i, t in enumerate(train_texts) if i in indices_train]\n",
    "train_targets = [t for i, t in enumerate(train_targets) if i in indices_train]\n",
    "valid_texts = [t for i, t in enumerate(valid_texts) if i in indices_valid]\n",
    "valid_targets = [t for i, t in enumerate(valid_targets) if i in indices_valid]\n",
    "\n",
    "train_dataset = SentimentDataset(texts=train_texts, targets=train_targets)\n",
    "valid_dataset = SentimentDataset(texts=valid_texts, targets=valid_targets)\n",
    "\n",
    "# d = train_dataset.__getitem__(0)\n",
    "# print(d.keys())\n",
    "# print(d['input_ids'].shape)\n",
    "# print(d['attention_mask'].shape)\n",
    "# print(d['targets'].shape)\n",
    "\n",
    "train_data_loader = DataLoader(train_dataset, batch_size=training_params.BATCH_SIZE, num_workers=4)\n",
    "valid_data_loader = DataLoader(valid_dataset, batch_size=training_params.BATCH_SIZE, num_workers=4)\n",
    "\n",
    "# data = next(iter(train_data_loader))\n",
    "# print('-'*50)\n",
    "# print(data.keys())\n",
    "# print(data['input_ids'].shape)\n",
    "# print(data['attention_mask'].shape)\n",
    "# print(data['targets'].shape)\n"
   ]
  },
  {
   "cell_type": "code",
   "execution_count": 3,
   "id": "965e90c1",
   "metadata": {},
   "outputs": [],
   "source": [
    "from collections import Counter"
   ]
  },
  {
   "cell_type": "code",
   "execution_count": 4,
   "id": "d5e363f2",
   "metadata": {},
   "outputs": [
    {
     "data": {
      "text/plain": [
       "Counter({2: 350, 1: 410, 0: 240})"
      ]
     },
     "execution_count": 4,
     "metadata": {},
     "output_type": "execute_result"
    }
   ],
   "source": [
    "Counter(train_targets)"
   ]
  },
  {
   "cell_type": "code",
   "execution_count": 5,
   "id": "4dd999ce",
   "metadata": {},
   "outputs": [
    {
     "data": {
      "text/plain": [
       "Counter({1: 205, 2: 174, 0: 121})"
      ]
     },
     "execution_count": 5,
     "metadata": {},
     "output_type": "execute_result"
    }
   ],
   "source": [
    "Counter(valid_targets)"
   ]
  },
  {
   "cell_type": "code",
   "execution_count": 6,
   "id": "c3276a14",
   "metadata": {},
   "outputs": [],
   "source": [
    "import torch\n",
    "from tqdm import tqdm"
   ]
  },
  {
   "cell_type": "code",
   "execution_count": 7,
   "id": "77b129c2",
   "metadata": {},
   "outputs": [
    {
     "name": "stderr",
     "output_type": "stream",
     "text": [
      "Some weights of the model checkpoint at bert-base-cased were not used when initializing BertForSequenceClassification: ['cls.predictions.decoder.weight', 'cls.seq_relationship.weight', 'cls.predictions.transform.LayerNorm.weight', 'cls.predictions.transform.dense.weight', 'cls.predictions.bias', 'cls.seq_relationship.bias', 'cls.predictions.transform.dense.bias', 'cls.predictions.transform.LayerNorm.bias']\n",
      "- This IS expected if you are initializing BertForSequenceClassification from the checkpoint of a model trained on another task or with another architecture (e.g. initializing a BertForSequenceClassification model from a BertForPreTraining model).\n",
      "- This IS NOT expected if you are initializing BertForSequenceClassification from the checkpoint of a model that you expect to be exactly identical (initializing a BertForSequenceClassification model from a BertForSequenceClassification model).\n",
      "Some weights of BertForSequenceClassification were not initialized from the model checkpoint at bert-base-cased and are newly initialized: ['classifier.bias', 'classifier.weight']\n",
      "You should probably TRAIN this model on a down-stream task to be able to use it for predictions and inference.\n"
     ]
    }
   ],
   "source": [
    "model = BertForSequenceClassification.from_pretrained(\n",
    "                                                        training_params.PRE_TRAINED_MODEL_NAME,\n",
    "                                                        num_labels=len(training_params.LABEL_DICT),\n",
    "                                                        output_attentions=False,\n",
    "                                                        output_hidden_states=False)\n"
   ]
  },
  {
   "cell_type": "code",
   "execution_count": 8,
   "id": "60048d07",
   "metadata": {},
   "outputs": [],
   "source": [
    "if training_params.FULL_FINETUNING:\n",
    "    param_optimizer = list(model.named_parameters())\n",
    "    no_decay = ['bias', 'gamma', 'beta']\n",
    "    optimizer_grouped_parameters = [\n",
    "        {'params': [p for n, p in param_optimizer if not any(nd in n for nd in no_decay)],\n",
    "         'weight_decay_rate': 0.01},\n",
    "        {'params': [p for n, p in param_optimizer if any(nd in n for nd in no_decay)],\n",
    "         'weight_decay_rate': 0.0}\n",
    "    ]\n",
    "else:\n",
    "    param_optimizer = list(model.classifier.named_parameters())\n",
    "    optimizer_grouped_parameters = [{\"params\": [p for n, p in param_optimizer]}]"
   ]
  },
  {
   "cell_type": "code",
   "execution_count": 9,
   "id": "e2a06214",
   "metadata": {},
   "outputs": [],
   "source": [
    "optimizer = torch.optim.AdamW(\n",
    "    model.parameters(),\n",
    "    lr = training_params.LEARNING_RATE,\n",
    "    eps = 1e-8\n",
    ")"
   ]
  },
  {
   "cell_type": "code",
   "execution_count": 10,
   "id": "7f8d9a16",
   "metadata": {},
   "outputs": [
    {
     "data": {
      "text/plain": [
       "{'input_ids': tensor([  101,   138, 10732,  6758,  3317,   102,     0,     0,     0,     0,\n",
       "             0,     0,     0,     0,     0,     0,     0,     0,     0,     0,\n",
       "             0,     0,     0,     0,     0,     0,     0,     0,     0,     0,\n",
       "             0,     0,     0,     0,     0,     0,     0,     0,     0,     0,\n",
       "             0,     0,     0,     0,     0,     0,     0,     0,     0,     0,\n",
       "             0,     0,     0,     0,     0,     0,     0,     0,     0,     0,\n",
       "             0,     0,     0,     0]),\n",
       " 'attention_mask': tensor([1, 1, 1, 1, 1, 1, 0, 0, 0, 0, 0, 0, 0, 0, 0, 0, 0, 0, 0, 0, 0, 0, 0, 0,\n",
       "         0, 0, 0, 0, 0, 0, 0, 0, 0, 0, 0, 0, 0, 0, 0, 0, 0, 0, 0, 0, 0, 0, 0, 0,\n",
       "         0, 0, 0, 0, 0, 0, 0, 0, 0, 0, 0, 0, 0, 0, 0, 0]),\n",
       " 'targets': tensor(2)}"
      ]
     },
     "execution_count": 10,
     "metadata": {},
     "output_type": "execute_result"
    }
   ],
   "source": [
    "next(iter(train_dataset))"
   ]
  },
  {
   "cell_type": "code",
   "execution_count": 11,
   "id": "c6c955b3",
   "metadata": {},
   "outputs": [],
   "source": [
    "total_steps = len(train_data_loader) * training_params.EPOCHS"
   ]
  },
  {
   "cell_type": "code",
   "execution_count": 12,
   "id": "62dbff29",
   "metadata": {},
   "outputs": [
    {
     "data": {
      "text/plain": [
       "1000"
      ]
     },
     "execution_count": 12,
     "metadata": {},
     "output_type": "execute_result"
    }
   ],
   "source": [
    "total_steps"
   ]
  },
  {
   "cell_type": "code",
   "execution_count": 13,
   "id": "b5dc9f5c",
   "metadata": {},
   "outputs": [],
   "source": [
    "epochs = training_params.EPOCHS\n",
    "\n",
    "scheduler = get_linear_schedule_with_warmup(\n",
    "    optimizer,\n",
    "    num_warmup_steps=0,\n",
    "    num_training_steps = total_steps\n",
    ")"
   ]
  },
  {
   "cell_type": "code",
   "execution_count": 14,
   "id": "094b2759",
   "metadata": {},
   "outputs": [],
   "source": [
    "model = model.to(training_params.DEVICE)"
   ]
  },
  {
   "cell_type": "code",
   "execution_count": 15,
   "id": "706f75d3",
   "metadata": {},
   "outputs": [],
   "source": [
    "checkpoint_folder = './checkpoints'"
   ]
  },
  {
   "cell_type": "code",
   "execution_count": 16,
   "id": "7ed379c0",
   "metadata": {},
   "outputs": [],
   "source": [
    "# full finetuning"
   ]
  },
  {
   "cell_type": "code",
   "execution_count": 17,
   "id": "b47f36de",
   "metadata": {},
   "outputs": [
    {
     "name": "stderr",
     "output_type": "stream",
     "text": [
      "Epoch 1: 100%|█████████████████████████████| 100/100 [00:25<00:00,  3.86batch/s]\n"
     ]
    },
    {
     "name": "stdout",
     "output_type": "stream",
     "text": [
      "Average train loss: 0.9072126896679401\n"
     ]
    },
    {
     "name": "stderr",
     "output_type": "stream",
     "text": [
      "100%|████████████████████████████████████████| 50/50 [00:03<00:00, 14.13batch/s]\n"
     ]
    },
    {
     "name": "stdout",
     "output_type": "stream",
     "text": [
      "Validation loss: 0.8043718355894088\n",
      "Validation Accuracy: 0.652\n",
      "Validation F1-Score: 0.5097151848937845\n",
      "Classification Report:               precision    recall  f1-score   support\n",
      "\n",
      "    NEGATIVE       1.00      0.03      0.06       121\n",
      "     NEUTRAL       0.59      0.80      0.68       174\n",
      "    POSITIVE       0.70      0.89      0.79       205\n",
      "\n",
      "    accuracy                           0.65       500\n",
      "   macro avg       0.76      0.57      0.51       500\n",
      "weighted avg       0.74      0.65      0.57       500\n",
      "\n"
     ]
    },
    {
     "name": "stderr",
     "output_type": "stream",
     "text": [
      "Epoch 2: 100%|█████████████████████████████| 100/100 [00:25<00:00,  3.95batch/s]\n"
     ]
    },
    {
     "name": "stdout",
     "output_type": "stream",
     "text": [
      "Average train loss: 0.5210530643165111\n"
     ]
    },
    {
     "name": "stderr",
     "output_type": "stream",
     "text": [
      "100%|████████████████████████████████████████| 50/50 [00:03<00:00, 14.12batch/s]\n"
     ]
    },
    {
     "name": "stdout",
     "output_type": "stream",
     "text": [
      "Validation loss: 0.4701364353299141\n",
      "Validation Accuracy: 0.82\n",
      "Validation F1-Score: 0.8043441186502475\n",
      "Classification Report:               precision    recall  f1-score   support\n",
      "\n",
      "    NEGATIVE       0.93      0.61      0.74       121\n",
      "     NEUTRAL       0.74      0.86      0.79       174\n",
      "    POSITIVE       0.86      0.91      0.88       205\n",
      "\n",
      "    accuracy                           0.82       500\n",
      "   macro avg       0.84      0.79      0.80       500\n",
      "weighted avg       0.83      0.82      0.82       500\n",
      "\n"
     ]
    },
    {
     "name": "stderr",
     "output_type": "stream",
     "text": [
      "Epoch 3: 100%|█████████████████████████████| 100/100 [00:26<00:00,  3.81batch/s]\n"
     ]
    },
    {
     "name": "stdout",
     "output_type": "stream",
     "text": [
      "Average train loss: 0.2816709213145077\n"
     ]
    },
    {
     "name": "stderr",
     "output_type": "stream",
     "text": [
      "100%|████████████████████████████████████████| 50/50 [00:03<00:00, 13.52batch/s]\n"
     ]
    },
    {
     "name": "stdout",
     "output_type": "stream",
     "text": [
      "Validation loss: 0.5009071134403348\n",
      "Validation Accuracy: 0.864\n",
      "Validation F1-Score: 0.8609600967557173\n",
      "Classification Report:               precision    recall  f1-score   support\n",
      "\n",
      "    NEGATIVE       0.85      0.86      0.85       121\n",
      "     NEUTRAL       0.82      0.84      0.83       174\n",
      "    POSITIVE       0.92      0.89      0.90       205\n",
      "\n",
      "    accuracy                           0.86       500\n",
      "   macro avg       0.86      0.86      0.86       500\n",
      "weighted avg       0.87      0.86      0.86       500\n",
      "\n"
     ]
    },
    {
     "name": "stderr",
     "output_type": "stream",
     "text": [
      "Epoch 4: 100%|█████████████████████████████| 100/100 [00:26<00:00,  3.76batch/s]\n"
     ]
    },
    {
     "name": "stdout",
     "output_type": "stream",
     "text": [
      "Average train loss: 0.18368448690278455\n"
     ]
    },
    {
     "name": "stderr",
     "output_type": "stream",
     "text": [
      "100%|████████████████████████████████████████| 50/50 [00:03<00:00, 13.48batch/s]\n"
     ]
    },
    {
     "name": "stdout",
     "output_type": "stream",
     "text": [
      "Validation loss: 0.5322721938369795\n",
      "Validation Accuracy: 0.87\n",
      "Validation F1-Score: 0.8672395342501066\n",
      "Classification Report:               precision    recall  f1-score   support\n",
      "\n",
      "    NEGATIVE       0.87      0.85      0.86       121\n",
      "     NEUTRAL       0.81      0.86      0.84       174\n",
      "    POSITIVE       0.93      0.89      0.91       205\n",
      "\n",
      "    accuracy                           0.87       500\n",
      "   macro avg       0.87      0.87      0.87       500\n",
      "weighted avg       0.87      0.87      0.87       500\n",
      "\n"
     ]
    },
    {
     "name": "stderr",
     "output_type": "stream",
     "text": [
      "Epoch 5: 100%|█████████████████████████████| 100/100 [00:26<00:00,  3.75batch/s]\n"
     ]
    },
    {
     "name": "stdout",
     "output_type": "stream",
     "text": [
      "Average train loss: 0.10557754631270655\n"
     ]
    },
    {
     "name": "stderr",
     "output_type": "stream",
     "text": [
      "100%|████████████████████████████████████████| 50/50 [00:03<00:00, 13.45batch/s]\n"
     ]
    },
    {
     "name": "stdout",
     "output_type": "stream",
     "text": [
      "Validation loss: 0.5936229682108387\n",
      "Validation Accuracy: 0.874\n",
      "Validation F1-Score: 0.8714507264506471\n",
      "Classification Report:               precision    recall  f1-score   support\n",
      "\n",
      "    NEGATIVE       0.88      0.85      0.87       121\n",
      "     NEUTRAL       0.81      0.86      0.84       174\n",
      "    POSITIVE       0.93      0.90      0.91       205\n",
      "\n",
      "    accuracy                           0.87       500\n",
      "   macro avg       0.87      0.87      0.87       500\n",
      "weighted avg       0.88      0.87      0.87       500\n",
      "\n"
     ]
    },
    {
     "name": "stderr",
     "output_type": "stream",
     "text": [
      "Epoch 6: 100%|█████████████████████████████| 100/100 [00:26<00:00,  3.81batch/s]\n"
     ]
    },
    {
     "name": "stdout",
     "output_type": "stream",
     "text": [
      "Average train loss: 0.03189895458112005\n"
     ]
    },
    {
     "name": "stderr",
     "output_type": "stream",
     "text": [
      "100%|████████████████████████████████████████| 50/50 [00:03<00:00, 14.09batch/s]\n"
     ]
    },
    {
     "name": "stdout",
     "output_type": "stream",
     "text": [
      "Validation loss: 0.6205426702403929\n",
      "Validation Accuracy: 0.884\n",
      "Validation F1-Score: 0.8824965080777741\n",
      "Classification Report:               precision    recall  f1-score   support\n",
      "\n",
      "    NEGATIVE       0.89      0.88      0.88       121\n",
      "     NEUTRAL       0.83      0.87      0.85       174\n",
      "    POSITIVE       0.93      0.90      0.92       205\n",
      "\n",
      "    accuracy                           0.88       500\n",
      "   macro avg       0.88      0.88      0.88       500\n",
      "weighted avg       0.89      0.88      0.88       500\n",
      "\n"
     ]
    },
    {
     "name": "stderr",
     "output_type": "stream",
     "text": [
      "Epoch 7: 100%|█████████████████████████████| 100/100 [00:25<00:00,  3.94batch/s]\n"
     ]
    },
    {
     "name": "stdout",
     "output_type": "stream",
     "text": [
      "Average train loss: 0.009528700941009447\n"
     ]
    },
    {
     "name": "stderr",
     "output_type": "stream",
     "text": [
      "100%|████████████████████████████████████████| 50/50 [00:03<00:00, 14.14batch/s]\n"
     ]
    },
    {
     "name": "stdout",
     "output_type": "stream",
     "text": [
      "Validation loss: 0.6824684699816862\n",
      "Validation Accuracy: 0.882\n",
      "Validation F1-Score: 0.8802351485789027\n",
      "Classification Report:               precision    recall  f1-score   support\n",
      "\n",
      "    NEGATIVE       0.90      0.86      0.88       121\n",
      "     NEUTRAL       0.82      0.88      0.85       174\n",
      "    POSITIVE       0.93      0.90      0.92       205\n",
      "\n",
      "    accuracy                           0.88       500\n",
      "   macro avg       0.88      0.88      0.88       500\n",
      "weighted avg       0.88      0.88      0.88       500\n",
      "\n"
     ]
    },
    {
     "name": "stderr",
     "output_type": "stream",
     "text": [
      "Epoch 8: 100%|█████████████████████████████| 100/100 [00:25<00:00,  3.94batch/s]\n"
     ]
    },
    {
     "name": "stdout",
     "output_type": "stream",
     "text": [
      "Average train loss: 0.010369259992730804\n"
     ]
    },
    {
     "name": "stderr",
     "output_type": "stream",
     "text": [
      "100%|████████████████████████████████████████| 50/50 [00:03<00:00, 14.14batch/s]\n"
     ]
    },
    {
     "name": "stdout",
     "output_type": "stream",
     "text": [
      "Validation loss: 0.7207766271947185\n",
      "Validation Accuracy: 0.878\n",
      "Validation F1-Score: 0.8748117539026629\n",
      "Classification Report:               precision    recall  f1-score   support\n",
      "\n",
      "    NEGATIVE       0.87      0.87      0.87       121\n",
      "     NEUTRAL       0.84      0.84      0.84       174\n",
      "    POSITIVE       0.92      0.91      0.92       205\n",
      "\n",
      "    accuracy                           0.88       500\n",
      "   macro avg       0.87      0.87      0.87       500\n",
      "weighted avg       0.88      0.88      0.88       500\n",
      "\n"
     ]
    },
    {
     "name": "stderr",
     "output_type": "stream",
     "text": [
      "Epoch 9: 100%|█████████████████████████████| 100/100 [00:25<00:00,  3.94batch/s]\n"
     ]
    },
    {
     "name": "stdout",
     "output_type": "stream",
     "text": [
      "Average train loss: 0.006325750190590043\n"
     ]
    },
    {
     "name": "stderr",
     "output_type": "stream",
     "text": [
      "100%|████████████████████████████████████████| 50/50 [00:03<00:00, 14.13batch/s]\n"
     ]
    },
    {
     "name": "stdout",
     "output_type": "stream",
     "text": [
      "Validation loss: 0.7385632276820252\n",
      "Validation Accuracy: 0.88\n",
      "Validation F1-Score: 0.8771671756655307\n",
      "Classification Report:               precision    recall  f1-score   support\n",
      "\n",
      "    NEGATIVE       0.87      0.88      0.87       121\n",
      "     NEUTRAL       0.84      0.84      0.84       174\n",
      "    POSITIVE       0.92      0.91      0.92       205\n",
      "\n",
      "    accuracy                           0.88       500\n",
      "   macro avg       0.88      0.88      0.88       500\n",
      "weighted avg       0.88      0.88      0.88       500\n",
      "\n"
     ]
    },
    {
     "name": "stderr",
     "output_type": "stream",
     "text": [
      "Epoch 10: 100%|████████████████████████████| 100/100 [00:25<00:00,  3.94batch/s]\n"
     ]
    },
    {
     "name": "stdout",
     "output_type": "stream",
     "text": [
      "Average train loss: 0.0078029017985682\n"
     ]
    },
    {
     "name": "stderr",
     "output_type": "stream",
     "text": [
      "100%|████████████████████████████████████████| 50/50 [00:03<00:00, 14.14batch/s]\n"
     ]
    },
    {
     "name": "stdout",
     "output_type": "stream",
     "text": [
      "Validation loss: 0.7472997263655998\n",
      "Validation Accuracy: 0.88\n",
      "Validation F1-Score: 0.8771671756655307\n",
      "Classification Report:               precision    recall  f1-score   support\n",
      "\n",
      "    NEGATIVE       0.87      0.88      0.87       121\n",
      "     NEUTRAL       0.84      0.84      0.84       174\n",
      "    POSITIVE       0.92      0.91      0.92       205\n",
      "\n",
      "    accuracy                           0.88       500\n",
      "   macro avg       0.88      0.88      0.88       500\n",
      "weighted avg       0.88      0.88      0.88       500\n",
      "\n"
     ]
    }
   ],
   "source": [
    "starting_epoch = 0\n",
    "\n",
    "\n",
    "loss_values, validation_loss_values = [], []\n",
    "\n",
    "train_step_count = 0\n",
    "for epoch in range(starting_epoch, training_params.EPOCHS):\n",
    "\n",
    "    model.train()\n",
    "    total_loss = 0\n",
    "\n",
    "    # Training loop\n",
    "    tk0 = tqdm(train_data_loader, total=int(len(train_data_loader)), unit='batch')\n",
    "    tk0.set_description(f'Epoch {epoch + 1}')\n",
    "\n",
    "    for step, batch in enumerate(tk0):\n",
    "        #  add batch to gpu\n",
    "        for k, v in batch.items():\n",
    "            batch[k] = v.to(training_params.DEVICE)\n",
    "\n",
    "        b_input_ids, b_input_mask, b_labels = batch['input_ids'], batch['attention_mask'], batch['targets']\n",
    "\n",
    "        model.zero_grad()\n",
    "\n",
    "        outputs = model(b_input_ids, token_type_ids=None,\n",
    "                        attention_mask=b_input_mask, labels=b_labels)\n",
    "        \n",
    "        loss = outputs['loss']\n",
    "        loss.backward()\n",
    "        total_loss += loss.item()\n",
    "\n",
    "        # loss for step\n",
    "#         writer.add_scalar(\"Training Loss- Step\", loss.sum(), train_step_count)\n",
    "#         wandb.log({'Training Loss - Step': loss.sum()})  \n",
    "        train_step_count += 1\n",
    "\n",
    "        torch.nn.utils.clip_grad_norm_(parameters=model.parameters(), max_norm=training_params.MAX_GRAD_NORM)\n",
    "\n",
    "        optimizer.step()\n",
    "\n",
    "        scheduler.step()\n",
    "\n",
    "    # Calculate the average loss over the training data.\n",
    "    avg_train_loss = total_loss / len(train_data_loader)\n",
    "    print(\"Average train loss: {}\".format(avg_train_loss))\n",
    "#     writer.add_scalar(\"Training Loss\", avg_train_loss, epoch)\n",
    "#     wandb.log({'Training loss': avg_train_loss, 'epoch': epoch})\n",
    "\n",
    "    state = {'epoch': epoch,\n",
    "             'state_dict': model.state_dict(),\n",
    "             'optimizer': optimizer.state_dict()}\n",
    "    torch.save(state, checkpoint_folder + '/checkpoint_last.pt')\n",
    "    # Store the loss value for plotting the learning curve.\n",
    "    loss_values.append(avg_train_loss)\n",
    "\n",
    "    model.eval()\n",
    "    # Reset the validation loss for this epoch.\n",
    "    eval_loss, eval_accuracy = 0, 0\n",
    "    nb_eval_steps, nb_eval_examples = 0, 0\n",
    "    predictions, true_labels = [], []\n",
    "\n",
    "    best_val_loss = np.inf\n",
    "\n",
    "    for batch in tqdm(valid_data_loader, total=int(len(valid_data_loader)), unit='batch', leave=True):\n",
    "        for k, v in batch.items():\n",
    "            batch[k] = v.to(training_params.DEVICE)\n",
    "        b_input_ids, b_input_mask, b_labels = batch['input_ids'], batch['attention_mask'], batch['targets']\n",
    "\n",
    "        with torch.no_grad():\n",
    "            outputs = model(b_input_ids, token_type_ids=None,\n",
    "                            attention_mask=b_input_mask, labels=b_labels)\n",
    "        logits = outputs['logits'].detach().cpu().numpy()\n",
    "        label_ids = b_labels.to('cpu').numpy()\n",
    "\n",
    "        # Calculate the accuracy for this batch of test sentences.\n",
    "        eval_loss += outputs['loss'].item()\n",
    "        \n",
    "        preds = np.argmax(logits, axis=1)\n",
    "        predictions.extend(preds)\n",
    "        true_labels.extend(label_ids)\n",
    "        \n",
    "#         print(predictions)\n",
    "#         print(true_labels)\n",
    "\n",
    "    eval_loss = eval_loss / len(valid_data_loader)\n",
    "\n",
    "    if eval_loss < best_val_loss:\n",
    "        state = {'epoch': epoch,\n",
    "                 'state_dict': model.state_dict(),\n",
    "                 'optimizer': optimizer.state_dict()}\n",
    "        torch.save(state, checkpoint_folder + '/checkpoint_best.pt')\n",
    "        best_val_loss = eval_loss\n",
    "\n",
    "    validation_loss_values.append(eval_loss)\n",
    "    print(\"Validation loss: {}\".format(eval_loss))\n",
    "#     writer.add_scalar(\"Validation Loss\", eval_loss, epoch)\n",
    "\n",
    "#     wandb.log({'Validation loss': eval_loss})\n",
    "\n",
    "#     pred_tags = [tag_values[p_i] for p, l in zip(predictions, true_labels) for p_i, l_i in zip(p, l) if\n",
    "#                  tag_values[l_i] != \"PAD\"]\n",
    "#     valid_tags = [tag_values[l_i] for l in true_labels for l_i in l if tag_values[l_i] != \"PAD\"]\n",
    "\n",
    "    val_accuracy = accuracy_score(true_labels, predictions)\n",
    "    val_f1_score = f1_score(true_labels, predictions, average='macro')\n",
    "    print(\"Validation Accuracy: {}\".format(val_accuracy))\n",
    "    print(\"Validation F1-Score: {}\".format(val_f1_score))\n",
    "    \n",
    "    true_labels_names = [training_params.LABEL_DICT[str(tl)] for tl in true_labels]\n",
    "    predictions_names = [training_params.LABEL_DICT[str(pr)] for pr in predictions]\n",
    "    \n",
    "    print(\"Classification Report: {}\".format(classification_report(true_labels_names, predictions_names,\n",
    "                                                                   labels=np.unique(predictions_names))))\n"
   ]
  },
  {
   "cell_type": "code",
   "execution_count": 15,
   "id": "827fd81b",
   "metadata": {},
   "outputs": [
    {
     "name": "stderr",
     "output_type": "stream",
     "text": [
      "Epoch 1: 100%|█████████████████████████████| 100/100 [00:25<00:00,  3.96batch/s]\n"
     ]
    },
    {
     "name": "stdout",
     "output_type": "stream",
     "text": [
      "Average train loss: 0.9072126896679401\n"
     ]
    },
    {
     "name": "stderr",
     "output_type": "stream",
     "text": [
      "100%|████████████████████████████████████████| 50/50 [00:03<00:00, 14.19batch/s]\n"
     ]
    },
    {
     "name": "stdout",
     "output_type": "stream",
     "text": [
      "Validation loss: 0.8043718355894088\n",
      "Validation Accuracy: 0.652\n",
      "Validation F1-Score: 0.5097151848937845\n",
      "Classification Report:               precision    recall  f1-score   support\n",
      "\n",
      "    NEGATIVE       1.00      0.03      0.06       121\n",
      "     NEUTRAL       0.59      0.80      0.68       174\n",
      "    POSITIVE       0.70      0.89      0.79       205\n",
      "\n",
      "    accuracy                           0.65       500\n",
      "   macro avg       0.76      0.57      0.51       500\n",
      "weighted avg       0.74      0.65      0.57       500\n",
      "\n"
     ]
    },
    {
     "name": "stderr",
     "output_type": "stream",
     "text": [
      "Epoch 2: 100%|█████████████████████████████| 100/100 [00:25<00:00,  3.91batch/s]\n"
     ]
    },
    {
     "name": "stdout",
     "output_type": "stream",
     "text": [
      "Average train loss: 0.5210530643165111\n"
     ]
    },
    {
     "name": "stderr",
     "output_type": "stream",
     "text": [
      "100%|████████████████████████████████████████| 50/50 [00:03<00:00, 14.06batch/s]\n"
     ]
    },
    {
     "name": "stdout",
     "output_type": "stream",
     "text": [
      "Validation loss: 0.4701364353299141\n",
      "Validation Accuracy: 0.82\n",
      "Validation F1-Score: 0.8043441186502475\n",
      "Classification Report:               precision    recall  f1-score   support\n",
      "\n",
      "    NEGATIVE       0.93      0.61      0.74       121\n",
      "     NEUTRAL       0.74      0.86      0.79       174\n",
      "    POSITIVE       0.86      0.91      0.88       205\n",
      "\n",
      "    accuracy                           0.82       500\n",
      "   macro avg       0.84      0.79      0.80       500\n",
      "weighted avg       0.83      0.82      0.82       500\n",
      "\n"
     ]
    },
    {
     "name": "stderr",
     "output_type": "stream",
     "text": [
      "Epoch 3: 100%|█████████████████████████████| 100/100 [00:26<00:00,  3.83batch/s]\n"
     ]
    },
    {
     "name": "stdout",
     "output_type": "stream",
     "text": [
      "Average train loss: 0.2816709213145077\n"
     ]
    },
    {
     "name": "stderr",
     "output_type": "stream",
     "text": [
      "100%|████████████████████████████████████████| 50/50 [00:03<00:00, 13.58batch/s]\n"
     ]
    },
    {
     "name": "stdout",
     "output_type": "stream",
     "text": [
      "Validation loss: 0.5009071134403348\n",
      "Validation Accuracy: 0.864\n",
      "Validation F1-Score: 0.8609600967557173\n",
      "Classification Report:               precision    recall  f1-score   support\n",
      "\n",
      "    NEGATIVE       0.85      0.86      0.85       121\n",
      "     NEUTRAL       0.82      0.84      0.83       174\n",
      "    POSITIVE       0.92      0.89      0.90       205\n",
      "\n",
      "    accuracy                           0.86       500\n",
      "   macro avg       0.86      0.86      0.86       500\n",
      "weighted avg       0.87      0.86      0.86       500\n",
      "\n"
     ]
    },
    {
     "name": "stderr",
     "output_type": "stream",
     "text": [
      "Epoch 4: 100%|█████████████████████████████| 100/100 [00:26<00:00,  3.78batch/s]\n"
     ]
    },
    {
     "name": "stdout",
     "output_type": "stream",
     "text": [
      "Average train loss: 0.18368448690278455\n"
     ]
    },
    {
     "name": "stderr",
     "output_type": "stream",
     "text": [
      "100%|████████████████████████████████████████| 50/50 [00:03<00:00, 13.46batch/s]\n"
     ]
    },
    {
     "name": "stdout",
     "output_type": "stream",
     "text": [
      "Validation loss: 0.5322721938369795\n",
      "Validation Accuracy: 0.87\n",
      "Validation F1-Score: 0.8672395342501066\n",
      "Classification Report:               precision    recall  f1-score   support\n",
      "\n",
      "    NEGATIVE       0.87      0.85      0.86       121\n",
      "     NEUTRAL       0.81      0.86      0.84       174\n",
      "    POSITIVE       0.93      0.89      0.91       205\n",
      "\n",
      "    accuracy                           0.87       500\n",
      "   macro avg       0.87      0.87      0.87       500\n",
      "weighted avg       0.87      0.87      0.87       500\n",
      "\n"
     ]
    },
    {
     "name": "stderr",
     "output_type": "stream",
     "text": [
      "Epoch 5: 100%|█████████████████████████████| 100/100 [00:27<00:00,  3.70batch/s]\n"
     ]
    },
    {
     "name": "stdout",
     "output_type": "stream",
     "text": [
      "Average train loss: 0.10557754631270655\n"
     ]
    },
    {
     "name": "stderr",
     "output_type": "stream",
     "text": [
      "100%|████████████████████████████████████████| 50/50 [00:03<00:00, 13.36batch/s]\n"
     ]
    },
    {
     "name": "stdout",
     "output_type": "stream",
     "text": [
      "Validation loss: 0.5936229682108387\n",
      "Validation Accuracy: 0.874\n",
      "Validation F1-Score: 0.8714507264506471\n",
      "Classification Report:               precision    recall  f1-score   support\n",
      "\n",
      "    NEGATIVE       0.88      0.85      0.87       121\n",
      "     NEUTRAL       0.81      0.86      0.84       174\n",
      "    POSITIVE       0.93      0.90      0.91       205\n",
      "\n",
      "    accuracy                           0.87       500\n",
      "   macro avg       0.87      0.87      0.87       500\n",
      "weighted avg       0.88      0.87      0.87       500\n",
      "\n"
     ]
    },
    {
     "name": "stderr",
     "output_type": "stream",
     "text": [
      "Epoch 6: 100%|█████████████████████████████| 100/100 [00:26<00:00,  3.84batch/s]\n"
     ]
    },
    {
     "name": "stdout",
     "output_type": "stream",
     "text": [
      "Average train loss: 0.03189895458112005\n"
     ]
    },
    {
     "name": "stderr",
     "output_type": "stream",
     "text": [
      "100%|████████████████████████████████████████| 50/50 [00:03<00:00, 14.15batch/s]\n"
     ]
    },
    {
     "name": "stdout",
     "output_type": "stream",
     "text": [
      "Validation loss: 0.6205426702403929\n",
      "Validation Accuracy: 0.884\n",
      "Validation F1-Score: 0.8824965080777741\n",
      "Classification Report:               precision    recall  f1-score   support\n",
      "\n",
      "    NEGATIVE       0.89      0.88      0.88       121\n",
      "     NEUTRAL       0.83      0.87      0.85       174\n",
      "    POSITIVE       0.93      0.90      0.92       205\n",
      "\n",
      "    accuracy                           0.88       500\n",
      "   macro avg       0.88      0.88      0.88       500\n",
      "weighted avg       0.89      0.88      0.88       500\n",
      "\n"
     ]
    },
    {
     "name": "stderr",
     "output_type": "stream",
     "text": [
      "Epoch 7: 100%|█████████████████████████████| 100/100 [00:25<00:00,  3.91batch/s]\n"
     ]
    },
    {
     "name": "stdout",
     "output_type": "stream",
     "text": [
      "Average train loss: 0.009528700941009447\n"
     ]
    },
    {
     "name": "stderr",
     "output_type": "stream",
     "text": [
      "100%|████████████████████████████████████████| 50/50 [00:03<00:00, 14.17batch/s]\n"
     ]
    },
    {
     "name": "stdout",
     "output_type": "stream",
     "text": [
      "Validation loss: 0.6824684699816862\n",
      "Validation Accuracy: 0.882\n",
      "Validation F1-Score: 0.8802351485789027\n",
      "Classification Report:               precision    recall  f1-score   support\n",
      "\n",
      "    NEGATIVE       0.90      0.86      0.88       121\n",
      "     NEUTRAL       0.82      0.88      0.85       174\n",
      "    POSITIVE       0.93      0.90      0.92       205\n",
      "\n",
      "    accuracy                           0.88       500\n",
      "   macro avg       0.88      0.88      0.88       500\n",
      "weighted avg       0.88      0.88      0.88       500\n",
      "\n"
     ]
    },
    {
     "name": "stderr",
     "output_type": "stream",
     "text": [
      "Epoch 8: 100%|█████████████████████████████| 100/100 [00:25<00:00,  3.94batch/s]\n"
     ]
    },
    {
     "name": "stdout",
     "output_type": "stream",
     "text": [
      "Average train loss: 0.010369259992730804\n"
     ]
    },
    {
     "name": "stderr",
     "output_type": "stream",
     "text": [
      "100%|████████████████████████████████████████| 50/50 [00:03<00:00, 14.19batch/s]\n"
     ]
    },
    {
     "name": "stdout",
     "output_type": "stream",
     "text": [
      "Validation loss: 0.7207766271947185\n",
      "Validation Accuracy: 0.878\n",
      "Validation F1-Score: 0.8748117539026629\n",
      "Classification Report:               precision    recall  f1-score   support\n",
      "\n",
      "    NEGATIVE       0.87      0.87      0.87       121\n",
      "     NEUTRAL       0.84      0.84      0.84       174\n",
      "    POSITIVE       0.92      0.91      0.92       205\n",
      "\n",
      "    accuracy                           0.88       500\n",
      "   macro avg       0.87      0.87      0.87       500\n",
      "weighted avg       0.88      0.88      0.88       500\n",
      "\n"
     ]
    },
    {
     "name": "stderr",
     "output_type": "stream",
     "text": [
      "Epoch 9: 100%|█████████████████████████████| 100/100 [00:25<00:00,  3.93batch/s]\n"
     ]
    },
    {
     "name": "stdout",
     "output_type": "stream",
     "text": [
      "Average train loss: 0.006325750190590043\n"
     ]
    },
    {
     "name": "stderr",
     "output_type": "stream",
     "text": [
      "100%|████████████████████████████████████████| 50/50 [00:03<00:00, 14.21batch/s]\n"
     ]
    },
    {
     "name": "stdout",
     "output_type": "stream",
     "text": [
      "Validation loss: 0.7385632276820252\n",
      "Validation Accuracy: 0.88\n",
      "Validation F1-Score: 0.8771671756655307\n",
      "Classification Report:               precision    recall  f1-score   support\n",
      "\n",
      "    NEGATIVE       0.87      0.88      0.87       121\n",
      "     NEUTRAL       0.84      0.84      0.84       174\n",
      "    POSITIVE       0.92      0.91      0.92       205\n",
      "\n",
      "    accuracy                           0.88       500\n",
      "   macro avg       0.88      0.88      0.88       500\n",
      "weighted avg       0.88      0.88      0.88       500\n",
      "\n"
     ]
    },
    {
     "name": "stderr",
     "output_type": "stream",
     "text": [
      "Epoch 10: 100%|████████████████████████████| 100/100 [00:26<00:00,  3.80batch/s]\n"
     ]
    },
    {
     "name": "stdout",
     "output_type": "stream",
     "text": [
      "Average train loss: 0.0078029017985682\n"
     ]
    },
    {
     "name": "stderr",
     "output_type": "stream",
     "text": [
      "100%|████████████████████████████████████████| 50/50 [00:03<00:00, 14.09batch/s]\n"
     ]
    },
    {
     "name": "stdout",
     "output_type": "stream",
     "text": [
      "Validation loss: 0.7472997263655998\n",
      "Validation Accuracy: 0.88\n",
      "Validation F1-Score: 0.8771671756655307\n",
      "Classification Report:               precision    recall  f1-score   support\n",
      "\n",
      "    NEGATIVE       0.87      0.88      0.87       121\n",
      "     NEUTRAL       0.84      0.84      0.84       174\n",
      "    POSITIVE       0.92      0.91      0.92       205\n",
      "\n",
      "    accuracy                           0.88       500\n",
      "   macro avg       0.88      0.88      0.88       500\n",
      "weighted avg       0.88      0.88      0.88       500\n",
      "\n"
     ]
    }
   ],
   "source": [
    "starting_epoch = 0\n",
    "\n",
    "\n",
    "loss_values, validation_loss_values = [], []\n",
    "\n",
    "train_step_count = 0\n",
    "for epoch in range(starting_epoch, training_params.EPOCHS):\n",
    "\n",
    "    model.train()\n",
    "    total_loss = 0\n",
    "\n",
    "    # Training loop\n",
    "    tk0 = tqdm(train_data_loader, total=int(len(train_data_loader)), unit='batch')\n",
    "    tk0.set_description(f'Epoch {epoch + 1}')\n",
    "\n",
    "    for step, batch in enumerate(tk0):\n",
    "        #  add batch to gpu\n",
    "        for k, v in batch.items():\n",
    "            batch[k] = v.to(training_params.DEVICE)\n",
    "\n",
    "        b_input_ids, b_input_mask, b_labels = batch['input_ids'], batch['attention_mask'], batch['targets']\n",
    "\n",
    "        model.zero_grad()\n",
    "\n",
    "        outputs = model(b_input_ids, token_type_ids=None,\n",
    "                        attention_mask=b_input_mask, labels=b_labels)\n",
    "        \n",
    "        loss = outputs['loss']\n",
    "        loss.backward()\n",
    "        total_loss += loss.item()\n",
    "\n",
    "        # loss for step\n",
    "#         writer.add_scalar(\"Training Loss- Step\", loss.sum(), train_step_count)\n",
    "#         wandb.log({'Training Loss - Step': loss.sum()})  \n",
    "        train_step_count += 1\n",
    "\n",
    "        torch.nn.utils.clip_grad_norm_(parameters=model.parameters(), max_norm=training_params.MAX_GRAD_NORM)\n",
    "\n",
    "        optimizer.step()\n",
    "\n",
    "        scheduler.step()\n",
    "\n",
    "    # Calculate the average loss over the training data.\n",
    "    avg_train_loss = total_loss / len(train_data_loader)\n",
    "    print(\"Average train loss: {}\".format(avg_train_loss))\n",
    "#     writer.add_scalar(\"Training Loss\", avg_train_loss, epoch)\n",
    "#     wandb.log({'Training loss': avg_train_loss, 'epoch': epoch})\n",
    "\n",
    "    state = {'epoch': epoch,\n",
    "             'state_dict': model.state_dict(),\n",
    "             'optimizer': optimizer.state_dict()}\n",
    "    torch.save(state, checkpoint_folder + '/checkpoint_last.pt')\n",
    "    # Store the loss value for plotting the learning curve.\n",
    "    loss_values.append(avg_train_loss)\n",
    "\n",
    "    model.eval()\n",
    "    # Reset the validation loss for this epoch.\n",
    "    eval_loss, eval_accuracy = 0, 0\n",
    "    nb_eval_steps, nb_eval_examples = 0, 0\n",
    "    predictions, true_labels = [], []\n",
    "\n",
    "    best_val_loss = np.inf\n",
    "\n",
    "    for batch in tqdm(valid_data_loader, total=int(len(valid_data_loader)), unit='batch', leave=True):\n",
    "        for k, v in batch.items():\n",
    "            batch[k] = v.to(training_params.DEVICE)\n",
    "        b_input_ids, b_input_mask, b_labels = batch['input_ids'], batch['attention_mask'], batch['targets']\n",
    "\n",
    "        with torch.no_grad():\n",
    "            outputs = model(b_input_ids, token_type_ids=None,\n",
    "                            attention_mask=b_input_mask, labels=b_labels)\n",
    "        logits = outputs['logits'].detach().cpu().numpy()\n",
    "        label_ids = b_labels.to('cpu').numpy()\n",
    "\n",
    "        # Calculate the accuracy for this batch of test sentences.\n",
    "        eval_loss += outputs['loss'].item()\n",
    "        \n",
    "        preds = np.argmax(logits, axis=1)\n",
    "        predictions.extend(preds)\n",
    "        true_labels.extend(label_ids)\n",
    "        \n",
    "#         print(predictions)\n",
    "#         print(true_labels)\n",
    "\n",
    "    eval_loss = eval_loss / len(valid_data_loader)\n",
    "\n",
    "    if eval_loss < best_val_loss:\n",
    "        state = {'epoch': epoch,\n",
    "                 'state_dict': model.state_dict(),\n",
    "                 'optimizer': optimizer.state_dict()}\n",
    "        torch.save(state, checkpoint_folder + '/checkpoint_best.pt')\n",
    "        best_val_loss = eval_loss\n",
    "\n",
    "    validation_loss_values.append(eval_loss)\n",
    "    print(\"Validation loss: {}\".format(eval_loss))\n",
    "#     writer.add_scalar(\"Validation Loss\", eval_loss, epoch)\n",
    "\n",
    "#     wandb.log({'Validation loss': eval_loss})\n",
    "\n",
    "#     pred_tags = [tag_values[p_i] for p, l in zip(predictions, true_labels) for p_i, l_i in zip(p, l) if\n",
    "#                  tag_values[l_i] != \"PAD\"]\n",
    "#     valid_tags = [tag_values[l_i] for l in true_labels for l_i in l if tag_values[l_i] != \"PAD\"]\n",
    "\n",
    "    val_accuracy = accuracy_score(true_labels, predictions)\n",
    "    val_f1_score = f1_score(true_labels, predictions, average='macro')\n",
    "    print(\"Validation Accuracy: {}\".format(val_accuracy))\n",
    "    print(\"Validation F1-Score: {}\".format(val_f1_score))\n",
    "    \n",
    "    true_labels_names = [training_params.LABEL_DICT[str(tl)] for tl in true_labels]\n",
    "    predictions_names = [training_params.LABEL_DICT[str(pr)] for pr in predictions]\n",
    "    \n",
    "    print(\"Classification Report: {}\".format(classification_report(true_labels_names, predictions_names,\n",
    "                                                                   labels=np.unique(predictions_names))))\n"
   ]
  },
  {
   "cell_type": "code",
   "execution_count": null,
   "id": "613d186c",
   "metadata": {},
   "outputs": [],
   "source": []
  },
  {
   "cell_type": "markdown",
   "id": "db15e2ad",
   "metadata": {},
   "source": [
    "# Metrics"
   ]
  },
  {
   "cell_type": "code",
   "execution_count": null,
   "id": "f889c2b7",
   "metadata": {},
   "outputs": [],
   "source": []
  },
  {
   "cell_type": "code",
   "execution_count": null,
   "id": "a3083661",
   "metadata": {},
   "outputs": [],
   "source": []
  },
  {
   "cell_type": "code",
   "execution_count": 2,
   "id": "df355bb4",
   "metadata": {},
   "outputs": [],
   "source": [
    "import numpy as np\n",
    "import pandas as pd\n",
    "from sklearn.metrics import f1_score, accuracy_score, classification_report"
   ]
  },
  {
   "cell_type": "code",
   "execution_count": 8,
   "id": "22ab1a0e",
   "metadata": {},
   "outputs": [],
   "source": [
    "true_labels_names = ['pos', 'pos', 'pos', 'neg', 'neg', 'neg', 'neu', 'neu']\n",
    "predictions_names = ['pos', 'pos', 'neg', 'neg', 'neg', 'pos', 'neu', 'neu']\n",
    "\n",
    "report = classification_report(true_labels_names, \n",
    "                                        predictions_names, output_dict=True,\n",
    "                                        labels=np.unique(predictions_names))"
   ]
  },
  {
   "cell_type": "code",
   "execution_count": 9,
   "id": "dbbb1c28",
   "metadata": {},
   "outputs": [
    {
     "name": "stdout",
     "output_type": "stream",
     "text": [
      "{'neg': {'precision': 0.6666666666666666, 'recall': 0.6666666666666666, 'f1-score': 0.6666666666666666, 'support': 3}, 'neu': {'precision': 1.0, 'recall': 1.0, 'f1-score': 1.0, 'support': 2}, 'pos': {'precision': 0.6666666666666666, 'recall': 0.6666666666666666, 'f1-score': 0.6666666666666666, 'support': 3}, 'accuracy': 0.75, 'macro avg': {'precision': 0.7777777777777777, 'recall': 0.7777777777777777, 'f1-score': 0.7777777777777777, 'support': 8}, 'weighted avg': {'precision': 0.75, 'recall': 0.75, 'f1-score': 0.75, 'support': 8}}\n"
     ]
    }
   ],
   "source": [
    "print(report)"
   ]
  },
  {
   "cell_type": "code",
   "execution_count": 10,
   "id": "85cc0432",
   "metadata": {},
   "outputs": [],
   "source": [
    "df_report = pd.DataFrame(report)"
   ]
  },
  {
   "cell_type": "code",
   "execution_count": 12,
   "id": "87dc15a2",
   "metadata": {},
   "outputs": [
    {
     "data": {
      "text/html": [
       "<div>\n",
       "<style scoped>\n",
       "    .dataframe tbody tr th:only-of-type {\n",
       "        vertical-align: middle;\n",
       "    }\n",
       "\n",
       "    .dataframe tbody tr th {\n",
       "        vertical-align: top;\n",
       "    }\n",
       "\n",
       "    .dataframe thead th {\n",
       "        text-align: right;\n",
       "    }\n",
       "</style>\n",
       "<table border=\"1\" class=\"dataframe\">\n",
       "  <thead>\n",
       "    <tr style=\"text-align: right;\">\n",
       "      <th></th>\n",
       "      <th>precision</th>\n",
       "      <th>recall</th>\n",
       "      <th>f1-score</th>\n",
       "      <th>support</th>\n",
       "    </tr>\n",
       "  </thead>\n",
       "  <tbody>\n",
       "    <tr>\n",
       "      <th>neg</th>\n",
       "      <td>0.666667</td>\n",
       "      <td>0.666667</td>\n",
       "      <td>0.666667</td>\n",
       "      <td>3.00</td>\n",
       "    </tr>\n",
       "    <tr>\n",
       "      <th>neu</th>\n",
       "      <td>1.000000</td>\n",
       "      <td>1.000000</td>\n",
       "      <td>1.000000</td>\n",
       "      <td>2.00</td>\n",
       "    </tr>\n",
       "    <tr>\n",
       "      <th>pos</th>\n",
       "      <td>0.666667</td>\n",
       "      <td>0.666667</td>\n",
       "      <td>0.666667</td>\n",
       "      <td>3.00</td>\n",
       "    </tr>\n",
       "    <tr>\n",
       "      <th>accuracy</th>\n",
       "      <td>0.750000</td>\n",
       "      <td>0.750000</td>\n",
       "      <td>0.750000</td>\n",
       "      <td>0.75</td>\n",
       "    </tr>\n",
       "    <tr>\n",
       "      <th>macro avg</th>\n",
       "      <td>0.777778</td>\n",
       "      <td>0.777778</td>\n",
       "      <td>0.777778</td>\n",
       "      <td>8.00</td>\n",
       "    </tr>\n",
       "    <tr>\n",
       "      <th>weighted avg</th>\n",
       "      <td>0.750000</td>\n",
       "      <td>0.750000</td>\n",
       "      <td>0.750000</td>\n",
       "      <td>8.00</td>\n",
       "    </tr>\n",
       "  </tbody>\n",
       "</table>\n",
       "</div>"
      ],
      "text/plain": [
       "              precision    recall  f1-score  support\n",
       "neg            0.666667  0.666667  0.666667     3.00\n",
       "neu            1.000000  1.000000  1.000000     2.00\n",
       "pos            0.666667  0.666667  0.666667     3.00\n",
       "accuracy       0.750000  0.750000  0.750000     0.75\n",
       "macro avg      0.777778  0.777778  0.777778     8.00\n",
       "weighted avg   0.750000  0.750000  0.750000     8.00"
      ]
     },
     "execution_count": 12,
     "metadata": {},
     "output_type": "execute_result"
    }
   ],
   "source": [
    "df_report.transpose()"
   ]
  },
  {
   "cell_type": "code",
   "execution_count": 14,
   "id": "76b1547e",
   "metadata": {},
   "outputs": [
    {
     "data": {
      "text/plain": [
       "Index(['precision', 'recall', 'f1-score', 'support'], dtype='object')"
      ]
     },
     "execution_count": 14,
     "metadata": {},
     "output_type": "execute_result"
    }
   ],
   "source": [
    "df_report.index"
   ]
  },
  {
   "cell_type": "code",
   "execution_count": 15,
   "id": "47eb969a",
   "metadata": {},
   "outputs": [],
   "source": [
    "    df_report = pd.DataFrame(report).transpose() \n",
    "    df_report['categories'] = list(df_report.index) \n",
    "    df_report = df_report[ ['categories'] + [ col for col in df_report.columns if col != 'categories' ] ] "
   ]
  },
  {
   "cell_type": "code",
   "execution_count": 16,
   "id": "16287d78",
   "metadata": {},
   "outputs": [
    {
     "data": {
      "text/html": [
       "<div>\n",
       "<style scoped>\n",
       "    .dataframe tbody tr th:only-of-type {\n",
       "        vertical-align: middle;\n",
       "    }\n",
       "\n",
       "    .dataframe tbody tr th {\n",
       "        vertical-align: top;\n",
       "    }\n",
       "\n",
       "    .dataframe thead th {\n",
       "        text-align: right;\n",
       "    }\n",
       "</style>\n",
       "<table border=\"1\" class=\"dataframe\">\n",
       "  <thead>\n",
       "    <tr style=\"text-align: right;\">\n",
       "      <th></th>\n",
       "      <th>categories</th>\n",
       "      <th>precision</th>\n",
       "      <th>recall</th>\n",
       "      <th>f1-score</th>\n",
       "      <th>support</th>\n",
       "    </tr>\n",
       "  </thead>\n",
       "  <tbody>\n",
       "    <tr>\n",
       "      <th>neg</th>\n",
       "      <td>neg</td>\n",
       "      <td>0.666667</td>\n",
       "      <td>0.666667</td>\n",
       "      <td>0.666667</td>\n",
       "      <td>3.00</td>\n",
       "    </tr>\n",
       "    <tr>\n",
       "      <th>neu</th>\n",
       "      <td>neu</td>\n",
       "      <td>1.000000</td>\n",
       "      <td>1.000000</td>\n",
       "      <td>1.000000</td>\n",
       "      <td>2.00</td>\n",
       "    </tr>\n",
       "    <tr>\n",
       "      <th>pos</th>\n",
       "      <td>pos</td>\n",
       "      <td>0.666667</td>\n",
       "      <td>0.666667</td>\n",
       "      <td>0.666667</td>\n",
       "      <td>3.00</td>\n",
       "    </tr>\n",
       "    <tr>\n",
       "      <th>accuracy</th>\n",
       "      <td>accuracy</td>\n",
       "      <td>0.750000</td>\n",
       "      <td>0.750000</td>\n",
       "      <td>0.750000</td>\n",
       "      <td>0.75</td>\n",
       "    </tr>\n",
       "    <tr>\n",
       "      <th>macro avg</th>\n",
       "      <td>macro avg</td>\n",
       "      <td>0.777778</td>\n",
       "      <td>0.777778</td>\n",
       "      <td>0.777778</td>\n",
       "      <td>8.00</td>\n",
       "    </tr>\n",
       "    <tr>\n",
       "      <th>weighted avg</th>\n",
       "      <td>weighted avg</td>\n",
       "      <td>0.750000</td>\n",
       "      <td>0.750000</td>\n",
       "      <td>0.750000</td>\n",
       "      <td>8.00</td>\n",
       "    </tr>\n",
       "  </tbody>\n",
       "</table>\n",
       "</div>"
      ],
      "text/plain": [
       "                categories  precision    recall  f1-score  support\n",
       "neg                    neg   0.666667  0.666667  0.666667     3.00\n",
       "neu                    neu   1.000000  1.000000  1.000000     2.00\n",
       "pos                    pos   0.666667  0.666667  0.666667     3.00\n",
       "accuracy          accuracy   0.750000  0.750000  0.750000     0.75\n",
       "macro avg        macro avg   0.777778  0.777778  0.777778     8.00\n",
       "weighted avg  weighted avg   0.750000  0.750000  0.750000     8.00"
      ]
     },
     "execution_count": 16,
     "metadata": {},
     "output_type": "execute_result"
    }
   ],
   "source": [
    "df_report"
   ]
  },
  {
   "cell_type": "code",
   "execution_count": null,
   "id": "2ed4025f",
   "metadata": {},
   "outputs": [],
   "source": []
  }
 ],
 "metadata": {
  "kernelspec": {
   "display_name": "Python 3 (ipykernel)",
   "language": "python",
   "name": "python3"
  },
  "language_info": {
   "codemirror_mode": {
    "name": "ipython",
    "version": 3
   },
   "file_extension": ".py",
   "mimetype": "text/x-python",
   "name": "python",
   "nbconvert_exporter": "python",
   "pygments_lexer": "ipython3",
   "version": "3.8.12"
  }
 },
 "nbformat": 4,
 "nbformat_minor": 5
}
